{
  "cells": [
    {
      "cell_type": "markdown",
      "metadata": {
        "id": "21XXWP7Fpt2L"
      },
      "source": [
        "# Superhero (and Supervillain) Name Generator\n",
        "\n",
        "---\n",
        "\n",
        "[Superhero Names Dataset](https://github.com/am1tyadav/superhero)"
      ]
    },
    {
      "cell_type": "markdown",
      "metadata": {
        "id": "H6P0NU5Cpt2R"
      },
      "source": [
        "## Task 2\n",
        "\n",
        "1. Import the data\n",
        "2. Create a tokenizer\n",
        "3. Char to index and Index to char dictionaries"
      ]
    },
    {
      "cell_type": "code",
      "execution_count": 1,
      "metadata": {
        "id": "srULhalZpt2M",
        "colab": {
          "base_uri": "https://localhost:8080/"
        },
        "outputId": "0f842c76-7dfe-4382-b6c0-0627c2234d85"
      },
      "outputs": [
        {
          "output_type": "stream",
          "name": "stdout",
          "text": [
            "Cloning into 'superhero'...\n",
            "remote: Enumerating objects: 8, done.\u001b[K\n",
            "remote: Counting objects: 100% (8/8), done.\u001b[K\n",
            "remote: Compressing objects: 100% (7/7), done.\u001b[K\n",
            "remote: Total 8 (delta 0), reused 4 (delta 0), pack-reused 0\u001b[K\n",
            "Unpacking objects: 100% (8/8), 47.06 KiB | 5.88 MiB/s, done.\n"
          ]
        }
      ],
      "source": [
        "!git clone https://github.com/am1tyadav/superhero"
      ]
    },
    {
      "cell_type": "code",
      "execution_count": 3,
      "metadata": {
        "id": "uq4CLmsLpt2P",
        "colab": {
          "base_uri": "https://localhost:8080/",
          "height": 37
        },
        "outputId": "6098aa16-d7c7-4d12-814e-443279d657b3"
      },
      "outputs": [
        {
          "output_type": "execute_result",
          "data": {
            "text/plain": [
              "'jumpa\\t\\ndoctor fate\\t\\nstarlight\\t\\nisildur\\t\\nlasher\\t\\nvarvara\\t\\nthe target\\t\\naxel\\t\\nbattra\\t\\nchangeling\\t\\npyrrh'"
            ],
            "application/vnd.google.colaboratory.intrinsic+json": {
              "type": "string"
            }
          },
          "metadata": {},
          "execution_count": 3
        }
      ],
      "source": [
        "with open('superhero/superheroes.txt', 'r') as f:\n",
        "  data = f.read()\n",
        "\n",
        "data[:100]"
      ]
    },
    {
      "cell_type": "code",
      "execution_count": 4,
      "metadata": {
        "id": "JqhtLuAHpt2R",
        "colab": {
          "base_uri": "https://localhost:8080/"
        },
        "outputId": "1d43c964-ffe2-4d7f-a339-e23cb221a146"
      },
      "outputs": [
        {
          "output_type": "stream",
          "name": "stdout",
          "text": [
            "2.12.0\n"
          ]
        }
      ],
      "source": [
        "import tensorflow as tf\n",
        "print(tf.__version__)"
      ]
    },
    {
      "cell_type": "code",
      "execution_count": 5,
      "metadata": {
        "id": "95Lo1Yqzpt2T"
      },
      "outputs": [],
      "source": [
        "tokenizer = tf.keras.preprocessing.text.Tokenizer(\n",
        "    filters='!\"#$%&()*+,-./:;<=>?@[\\\\]^_`{|}~',\n",
        "    split='\\n',\n",
        ")"
      ]
    },
    {
      "cell_type": "code",
      "execution_count": 6,
      "metadata": {
        "id": "qYfC4sj2pt2V",
        "colab": {
          "base_uri": "https://localhost:8080/"
        },
        "outputId": "9a78fa90-52e9-43cb-c360-cf47e4d2ab67"
      },
      "outputs": [
        {
          "output_type": "stream",
          "name": "stdout",
          "text": [
            "{1: '\\t', 2: 'a', 3: 'e', 4: 'r', 5: 'o', 6: 'n', 7: 'i', 8: ' ', 9: 't', 10: 's', 11: 'l', 12: 'm', 13: 'h', 14: 'd', 15: 'c', 16: 'u', 17: 'g', 18: 'k', 19: 'b', 20: 'p', 21: 'y', 22: 'w', 23: 'f', 24: 'v', 25: 'j', 26: 'z', 27: 'x', 28: 'q'}\n"
          ]
        }
      ],
      "source": [
        "tokenizer.fit_on_texts(data)\n",
        "\n",
        "char_to_index = tokenizer.word_index\n",
        "index_to_char = dict((v,k) for k,v in char_to_index.items())\n",
        "\n",
        "print(index_to_char)"
      ]
    },
    {
      "cell_type": "markdown",
      "metadata": {
        "id": "SMwtIw_Bpt2Z"
      },
      "source": [
        "## Task 3\n",
        "\n",
        "1. Converting between names and sequences"
      ]
    },
    {
      "cell_type": "code",
      "execution_count": 7,
      "metadata": {
        "id": "N7iQLIXzpt2a",
        "colab": {
          "base_uri": "https://localhost:8080/"
        },
        "outputId": "c2309339-2217-4ac6-b079-013a3c4a6825"
      },
      "outputs": [
        {
          "output_type": "execute_result",
          "data": {
            "text/plain": [
              "['jumpa\\t',\n",
              " 'doctor fate\\t',\n",
              " 'starlight\\t',\n",
              " 'isildur\\t',\n",
              " 'lasher\\t',\n",
              " 'varvara\\t',\n",
              " 'the target\\t',\n",
              " 'axel\\t',\n",
              " 'battra\\t',\n",
              " 'changeling\\t']"
            ]
          },
          "metadata": {},
          "execution_count": 7
        }
      ],
      "source": [
        "names = data.splitlines()\n",
        "\n",
        "names[:10]"
      ]
    },
    {
      "cell_type": "code",
      "execution_count": 8,
      "metadata": {
        "id": "n_-TTfqipt2c",
        "colab": {
          "base_uri": "https://localhost:8080/"
        },
        "outputId": "13759af3-f1b8-4f63-f641-101d1ef7398e"
      },
      "outputs": [
        {
          "output_type": "execute_result",
          "data": {
            "text/plain": [
              "[[25], [16], [12], [20], [2], [1]]"
            ]
          },
          "metadata": {},
          "execution_count": 8
        }
      ],
      "source": [
        "tokenizer.texts_to_sequences(names[0])"
      ]
    },
    {
      "cell_type": "code",
      "execution_count": 10,
      "metadata": {
        "id": "P6IsKH1Upt2e"
      },
      "outputs": [],
      "source": [
        "def name_to_seq(name):\n",
        "  return [tokenizer.texts_to_sequences(c)[0][0] for c in name]"
      ]
    },
    {
      "cell_type": "code",
      "execution_count": 11,
      "metadata": {
        "id": "TuLUiMP3pt2g",
        "colab": {
          "base_uri": "https://localhost:8080/"
        },
        "outputId": "b1e985ee-e04a-4e4d-c8f0-5d7325ea2b8f"
      },
      "outputs": [
        {
          "output_type": "execute_result",
          "data": {
            "text/plain": [
              "[25, 16, 12, 20, 2, 1]"
            ]
          },
          "metadata": {},
          "execution_count": 11
        }
      ],
      "source": [
        "name_to_seq(names[0])"
      ]
    },
    {
      "cell_type": "code",
      "execution_count": 14,
      "metadata": {
        "id": "yFUYhimKpt2h"
      },
      "outputs": [],
      "source": [
        "def seq_to_name(seq):\n",
        "  return ''.join([index_to_char[i] for i in seq if i != 0])"
      ]
    },
    {
      "cell_type": "code",
      "execution_count": 15,
      "metadata": {
        "id": "ROhCqmhLpt2k",
        "colab": {
          "base_uri": "https://localhost:8080/",
          "height": 37
        },
        "outputId": "4d08df45-a262-4914-a300-f4785b71ea91"
      },
      "outputs": [
        {
          "output_type": "execute_result",
          "data": {
            "text/plain": [
              "'jumpa\\t'"
            ],
            "application/vnd.google.colaboratory.intrinsic+json": {
              "type": "string"
            }
          },
          "metadata": {},
          "execution_count": 15
        }
      ],
      "source": [
        "seq_to_name(name_to_seq(names[0]))"
      ]
    },
    {
      "cell_type": "markdown",
      "metadata": {
        "id": "uCbAzsNjpt2m"
      },
      "source": [
        "## Task 4\n",
        "\n",
        "1. Creating sequences\n",
        "2. Padding all sequences"
      ]
    },
    {
      "cell_type": "code",
      "execution_count": 18,
      "metadata": {
        "id": "zstNn-0dpt2m"
      },
      "outputs": [],
      "source": [
        "sequences = []\n",
        "\n",
        "for name in names:\n",
        "  seq = name_to_seq(name)\n",
        "  if len(seq) >= 2:\n",
        "    sequences += [seq[:i] for i in range(2, len(seq)+1)]"
      ]
    },
    {
      "cell_type": "code",
      "execution_count": 19,
      "metadata": {
        "id": "BjRTMysvpt2o",
        "colab": {
          "base_uri": "https://localhost:8080/"
        },
        "outputId": "6f5f5338-7103-4066-fa84-bbcf567f06b6"
      },
      "outputs": [
        {
          "output_type": "execute_result",
          "data": {
            "text/plain": [
              "[[25, 16],\n",
              " [25, 16, 12],\n",
              " [25, 16, 12, 20],\n",
              " [25, 16, 12, 20, 2],\n",
              " [25, 16, 12, 20, 2, 1],\n",
              " [14, 5],\n",
              " [14, 5, 15],\n",
              " [14, 5, 15, 9],\n",
              " [14, 5, 15, 9, 5],\n",
              " [14, 5, 15, 9, 5, 4]]"
            ]
          },
          "metadata": {},
          "execution_count": 19
        }
      ],
      "source": [
        "sequences[:10]"
      ]
    },
    {
      "cell_type": "code",
      "execution_count": 20,
      "metadata": {
        "id": "SR68pu2tpt2q",
        "colab": {
          "base_uri": "https://localhost:8080/"
        },
        "outputId": "e4a4b07f-37f0-4c74-d8c7-b86965f1363b"
      },
      "outputs": [
        {
          "output_type": "stream",
          "name": "stdout",
          "text": [
            "33\n"
          ]
        }
      ],
      "source": [
        "max_len = max([len(x) for x in sequences])\n",
        "\n",
        "print(max_len)"
      ]
    },
    {
      "cell_type": "code",
      "execution_count": 22,
      "metadata": {
        "id": "h_1BtWO7pt2r",
        "colab": {
          "base_uri": "https://localhost:8080/"
        },
        "outputId": "ffb1043c-d718-4ad5-9790-ff312dee772a"
      },
      "outputs": [
        {
          "output_type": "stream",
          "name": "stdout",
          "text": [
            "[ 0  0  0  0  0  0  0  0  0  0  0  0  0  0  0  0  0  0  0  0  0  0  0  0\n",
            "  0  0  0  0  0  0  0 25 16]\n"
          ]
        }
      ],
      "source": [
        "padded_sequences = tf.keras.preprocessing.sequence.pad_sequences(\n",
        "    sequences, padding='pre',\n",
        "    maxlen=max_len\n",
        ")\n",
        "print(padded_sequences[0])"
      ]
    },
    {
      "cell_type": "code",
      "execution_count": 24,
      "metadata": {
        "id": "sPlrLRpSpt2t",
        "colab": {
          "base_uri": "https://localhost:8080/"
        },
        "outputId": "76ef057a-ce39-48cb-bf49-ae70d05fb60c"
      },
      "outputs": [
        {
          "output_type": "execute_result",
          "data": {
            "text/plain": [
              "(88279, 33)"
            ]
          },
          "metadata": {},
          "execution_count": 24
        }
      ],
      "source": [
        "padded_sequences.shape"
      ]
    },
    {
      "cell_type": "markdown",
      "metadata": {
        "id": "1wlgPeTKHp0r"
      },
      "source": [
        "## Task 5: Creating Training and Validation Sets\n",
        "\n",
        "1. Creating training and validation sets"
      ]
    },
    {
      "cell_type": "code",
      "execution_count": 27,
      "metadata": {
        "id": "BE4BIeSnpt2v",
        "colab": {
          "base_uri": "https://localhost:8080/"
        },
        "outputId": "10c52381-728d-4612-852d-90e64dcac4d8"
      },
      "outputs": [
        {
          "output_type": "stream",
          "name": "stdout",
          "text": [
            "(88279, 32) (88279,)\n"
          ]
        }
      ],
      "source": [
        "x, y = padded_sequences[: , :-1], padded_sequences[: , -1]\n",
        "print(x.shape, y.shape)"
      ]
    },
    {
      "cell_type": "code",
      "execution_count": 29,
      "metadata": {
        "id": "q2vnZKPnHp0r",
        "colab": {
          "base_uri": "https://localhost:8080/"
        },
        "outputId": "e35af923-3cb0-4ace-ae2c-af7ee7cf40ab"
      },
      "outputs": [
        {
          "output_type": "stream",
          "name": "stdout",
          "text": [
            "(66209, 32) (66209,)\n",
            "(22070, 32) (22070,)\n"
          ]
        }
      ],
      "source": [
        "from sklearn.model_selection import train_test_split\n",
        "\n",
        "x_train, x_test, y_train, y_test = train_test_split(x,y)\n",
        "\n",
        "print(x_train.shape, y_train.shape)\n",
        "print(x_test.shape, y_test.shape)"
      ]
    },
    {
      "cell_type": "code",
      "execution_count": 31,
      "metadata": {
        "id": "cgqRZtqnpt2x",
        "colab": {
          "base_uri": "https://localhost:8080/"
        },
        "outputId": "155414b2-a799-415e-ff6c-465a6a263327"
      },
      "outputs": [
        {
          "output_type": "stream",
          "name": "stdout",
          "text": [
            "29\n"
          ]
        }
      ],
      "source": [
        "num_chars = len(char_to_index.keys()) + 1\n",
        "print(num_chars)"
      ]
    },
    {
      "cell_type": "markdown",
      "metadata": {
        "id": "YPiDxCf2Hp0s"
      },
      "source": [
        "## Task 6: Creating the Model"
      ]
    },
    {
      "cell_type": "code",
      "execution_count": 38,
      "metadata": {
        "id": "dW8JrsGsHp0s",
        "colab": {
          "base_uri": "https://localhost:8080/"
        },
        "outputId": "f5294b5a-6f5b-4c2f-c34b-9f5b5df43bc3"
      },
      "outputs": [
        {
          "output_type": "stream",
          "name": "stdout",
          "text": [
            "Model: \"sequential_1\"\n",
            "_________________________________________________________________\n",
            " Layer (type)                Output Shape              Param #   \n",
            "=================================================================\n",
            " embedding_1 (Embedding)     (None, 32, 8)             232       \n",
            "                                                                 \n",
            " conv1d_1 (Conv1D)           (None, 32, 64)            2624      \n",
            "                                                                 \n",
            " max_pooling1d_1 (MaxPooling  (None, 16, 64)           0         \n",
            " 1D)                                                             \n",
            "                                                                 \n",
            " lstm_1 (LSTM)               (None, 32)                12416     \n",
            "                                                                 \n",
            " dense_1 (Dense)             (None, 29)                957       \n",
            "                                                                 \n",
            "=================================================================\n",
            "Total params: 16,229\n",
            "Trainable params: 16,229\n",
            "Non-trainable params: 0\n",
            "_________________________________________________________________\n"
          ]
        }
      ],
      "source": [
        "from tensorflow.keras.models import Sequential\n",
        "from tensorflow.keras.layers import Embedding, Conv1D, MaxPool1D, LSTM\n",
        "from tensorflow.keras.layers import Bidirectional, Dense\n",
        "\n",
        "model = Sequential([\n",
        "    Embedding(num_chars, 8, input_length = max_len-1),\n",
        "    Conv1D(64, 5, strides=1, activation='tanh', padding='causal'),\n",
        "    MaxPool1D(2),\n",
        "    LSTM(32),\n",
        "    Dense(num_chars, activation='softmax')\n",
        "])\n",
        "\n",
        "model.compile(\n",
        "    loss='sparse_categorical_crossentropy',\n",
        "    optimizer='adam',\n",
        "    metrics=['accuracy']\n",
        ")\n",
        "\n",
        "model.summary()"
      ]
    },
    {
      "cell_type": "markdown",
      "metadata": {
        "id": "H5Mif2yTHp0s"
      },
      "source": [
        "## Task 7: Training the Model"
      ]
    },
    {
      "cell_type": "code",
      "execution_count": 44,
      "metadata": {
        "id": "j0Ssl4qupt22",
        "colab": {
          "base_uri": "https://localhost:8080/"
        },
        "outputId": "b0abf9aa-a6f1-4001-b111-10025408892b"
      },
      "outputs": [
        {
          "output_type": "stream",
          "name": "stdout",
          "text": [
            "Epoch 1/50\n",
            "2070/2070 - 12s - loss: 1.9178 - accuracy: 0.4256 - val_loss: 2.2076 - val_accuracy: 0.3648 - 12s/epoch - 6ms/step\n",
            "Epoch 2/50\n",
            "2070/2070 - 12s - loss: 1.9163 - accuracy: 0.4270 - val_loss: 2.2065 - val_accuracy: 0.3663 - 12s/epoch - 6ms/step\n",
            "Epoch 3/50\n",
            "2070/2070 - 12s - loss: 1.9137 - accuracy: 0.4276 - val_loss: 2.2130 - val_accuracy: 0.3641 - 12s/epoch - 6ms/step\n",
            "Epoch 4/50\n",
            "2070/2070 - 12s - loss: 1.9119 - accuracy: 0.4267 - val_loss: 2.2090 - val_accuracy: 0.3660 - 12s/epoch - 6ms/step\n",
            "Epoch 5/50\n",
            "2070/2070 - 12s - loss: 1.9099 - accuracy: 0.4279 - val_loss: 2.2140 - val_accuracy: 0.3664 - 12s/epoch - 6ms/step\n",
            "Epoch 6/50\n",
            "2070/2070 - 12s - loss: 1.9079 - accuracy: 0.4285 - val_loss: 2.2131 - val_accuracy: 0.3673 - 12s/epoch - 6ms/step\n",
            "Epoch 7/50\n",
            "2070/2070 - 12s - loss: 1.9058 - accuracy: 0.4286 - val_loss: 2.2115 - val_accuracy: 0.3651 - 12s/epoch - 6ms/step\n",
            "Epoch 8/50\n",
            "2070/2070 - 12s - loss: 1.9037 - accuracy: 0.4296 - val_loss: 2.2116 - val_accuracy: 0.3659 - 12s/epoch - 6ms/step\n",
            "Epoch 9/50\n",
            "2070/2070 - 12s - loss: 1.9015 - accuracy: 0.4292 - val_loss: 2.2160 - val_accuracy: 0.3643 - 12s/epoch - 6ms/step\n",
            "Epoch 10/50\n",
            "2070/2070 - 12s - loss: 1.8998 - accuracy: 0.4309 - val_loss: 2.2117 - val_accuracy: 0.3643 - 12s/epoch - 6ms/step\n",
            "Epoch 11/50\n",
            "2070/2070 - 12s - loss: 1.8984 - accuracy: 0.4297 - val_loss: 2.2166 - val_accuracy: 0.3640 - 12s/epoch - 6ms/step\n",
            "Epoch 12/50\n",
            "2070/2070 - 12s - loss: 1.8969 - accuracy: 0.4324 - val_loss: 2.2197 - val_accuracy: 0.3625 - 12s/epoch - 6ms/step\n",
            "Epoch 13/50\n",
            "2070/2070 - 12s - loss: 1.8957 - accuracy: 0.4322 - val_loss: 2.2165 - val_accuracy: 0.3642 - 12s/epoch - 6ms/step\n",
            "Epoch 14/50\n",
            "2070/2070 - 12s - loss: 1.8935 - accuracy: 0.4318 - val_loss: 2.2178 - val_accuracy: 0.3668 - 12s/epoch - 6ms/step\n",
            "Epoch 15/50\n",
            "2070/2070 - 12s - loss: 1.8918 - accuracy: 0.4325 - val_loss: 2.2265 - val_accuracy: 0.3647 - 12s/epoch - 6ms/step\n",
            "Epoch 16/50\n",
            "2070/2070 - 12s - loss: 1.8904 - accuracy: 0.4345 - val_loss: 2.2227 - val_accuracy: 0.3659 - 12s/epoch - 6ms/step\n",
            "Epoch 17/50\n",
            "2070/2070 - 12s - loss: 1.8883 - accuracy: 0.4356 - val_loss: 2.2202 - val_accuracy: 0.3663 - 12s/epoch - 6ms/step\n",
            "Epoch 18/50\n",
            "2070/2070 - 17s - loss: 1.8871 - accuracy: 0.4343 - val_loss: 2.2268 - val_accuracy: 0.3635 - 17s/epoch - 8ms/step\n",
            "Epoch 19/50\n",
            "2070/2070 - 13s - loss: 1.8855 - accuracy: 0.4360 - val_loss: 2.2258 - val_accuracy: 0.3639 - 13s/epoch - 6ms/step\n",
            "Epoch 20/50\n",
            "2070/2070 - 19s - loss: 1.8847 - accuracy: 0.4364 - val_loss: 2.2252 - val_accuracy: 0.3652 - 19s/epoch - 9ms/step\n",
            "Epoch 21/50\n",
            "2070/2070 - 15s - loss: 1.8825 - accuracy: 0.4360 - val_loss: 2.2250 - val_accuracy: 0.3641 - 15s/epoch - 7ms/step\n",
            "Epoch 22/50\n",
            "2070/2070 - 15s - loss: 1.8810 - accuracy: 0.4373 - val_loss: 2.2281 - val_accuracy: 0.3638 - 15s/epoch - 7ms/step\n",
            "Epoch 23/50\n",
            "2070/2070 - 15s - loss: 1.8797 - accuracy: 0.4362 - val_loss: 2.2334 - val_accuracy: 0.3649 - 15s/epoch - 7ms/step\n",
            "Epoch 24/50\n",
            "2070/2070 - 15s - loss: 1.8790 - accuracy: 0.4382 - val_loss: 2.2264 - val_accuracy: 0.3635 - 15s/epoch - 7ms/step\n",
            "Epoch 25/50\n",
            "2070/2070 - 14s - loss: 1.8762 - accuracy: 0.4382 - val_loss: 2.2352 - val_accuracy: 0.3633 - 14s/epoch - 7ms/step\n",
            "Epoch 26/50\n",
            "2070/2070 - 16s - loss: 1.8759 - accuracy: 0.4384 - val_loss: 2.2269 - val_accuracy: 0.3643 - 16s/epoch - 7ms/step\n",
            "Epoch 27/50\n",
            "2070/2070 - 18s - loss: 1.8745 - accuracy: 0.4385 - val_loss: 2.2339 - val_accuracy: 0.3628 - 18s/epoch - 9ms/step\n",
            "Epoch 28/50\n",
            "2070/2070 - 19s - loss: 1.8731 - accuracy: 0.4382 - val_loss: 2.2283 - val_accuracy: 0.3661 - 19s/epoch - 9ms/step\n",
            "Epoch 29/50\n",
            "2070/2070 - 14s - loss: 1.8721 - accuracy: 0.4391 - val_loss: 2.2341 - val_accuracy: 0.3653 - 14s/epoch - 7ms/step\n",
            "Epoch 30/50\n",
            "2070/2070 - 15s - loss: 1.8703 - accuracy: 0.4410 - val_loss: 2.2298 - val_accuracy: 0.3671 - 15s/epoch - 7ms/step\n",
            "Epoch 31/50\n",
            "2070/2070 - 14s - loss: 1.8694 - accuracy: 0.4403 - val_loss: 2.2341 - val_accuracy: 0.3638 - 14s/epoch - 7ms/step\n",
            "Epoch 32/50\n",
            "2070/2070 - 15s - loss: 1.8682 - accuracy: 0.4395 - val_loss: 2.2317 - val_accuracy: 0.3657 - 15s/epoch - 7ms/step\n",
            "Epoch 33/50\n",
            "2070/2070 - 16s - loss: 1.8668 - accuracy: 0.4415 - val_loss: 2.2294 - val_accuracy: 0.3655 - 16s/epoch - 7ms/step\n",
            "Epoch 34/50\n",
            "2070/2070 - 14s - loss: 1.8653 - accuracy: 0.4403 - val_loss: 2.2354 - val_accuracy: 0.3650 - 14s/epoch - 7ms/step\n",
            "Epoch 35/50\n",
            "2070/2070 - 13s - loss: 1.8641 - accuracy: 0.4413 - val_loss: 2.2344 - val_accuracy: 0.3638 - 13s/epoch - 6ms/step\n",
            "Epoch 36/50\n",
            "2070/2070 - 12s - loss: 1.8634 - accuracy: 0.4422 - val_loss: 2.2365 - val_accuracy: 0.3660 - 12s/epoch - 6ms/step\n",
            "Epoch 37/50\n",
            "2070/2070 - 12s - loss: 1.8623 - accuracy: 0.4412 - val_loss: 2.2387 - val_accuracy: 0.3646 - 12s/epoch - 6ms/step\n",
            "Epoch 38/50\n",
            "2070/2070 - 13s - loss: 1.8612 - accuracy: 0.4426 - val_loss: 2.2381 - val_accuracy: 0.3671 - 13s/epoch - 6ms/step\n",
            "Epoch 39/50\n",
            "2070/2070 - 12s - loss: 1.8599 - accuracy: 0.4446 - val_loss: 2.2346 - val_accuracy: 0.3624 - 12s/epoch - 6ms/step\n",
            "Epoch 40/50\n",
            "2070/2070 - 13s - loss: 1.8596 - accuracy: 0.4437 - val_loss: 2.2424 - val_accuracy: 0.3639 - 13s/epoch - 6ms/step\n",
            "Epoch 41/50\n",
            "2070/2070 - 12s - loss: 1.8581 - accuracy: 0.4459 - val_loss: 2.2394 - val_accuracy: 0.3645 - 12s/epoch - 6ms/step\n",
            "Epoch 42/50\n",
            "2070/2070 - 12s - loss: 1.8568 - accuracy: 0.4451 - val_loss: 2.2400 - val_accuracy: 0.3657 - 12s/epoch - 6ms/step\n",
            "Epoch 43/50\n",
            "2070/2070 - 13s - loss: 1.8561 - accuracy: 0.4429 - val_loss: 2.2439 - val_accuracy: 0.3649 - 13s/epoch - 6ms/step\n",
            "Epoch 44/50\n",
            "2070/2070 - 13s - loss: 1.8542 - accuracy: 0.4470 - val_loss: 2.2474 - val_accuracy: 0.3643 - 13s/epoch - 6ms/step\n",
            "Epoch 45/50\n",
            "2070/2070 - 12s - loss: 1.8543 - accuracy: 0.4442 - val_loss: 2.2411 - val_accuracy: 0.3614 - 12s/epoch - 6ms/step\n",
            "Epoch 46/50\n",
            "2070/2070 - 12s - loss: 1.8531 - accuracy: 0.4468 - val_loss: 2.2468 - val_accuracy: 0.3625 - 12s/epoch - 6ms/step\n",
            "Epoch 47/50\n",
            "2070/2070 - 13s - loss: 1.8517 - accuracy: 0.4464 - val_loss: 2.2435 - val_accuracy: 0.3673 - 13s/epoch - 6ms/step\n",
            "Epoch 48/50\n",
            "2070/2070 - 13s - loss: 1.8515 - accuracy: 0.4468 - val_loss: 2.2465 - val_accuracy: 0.3646 - 13s/epoch - 6ms/step\n",
            "Epoch 49/50\n",
            "2070/2070 - 12s - loss: 1.8499 - accuracy: 0.4468 - val_loss: 2.2448 - val_accuracy: 0.3654 - 12s/epoch - 6ms/step\n",
            "Epoch 50/50\n",
            "2070/2070 - 12s - loss: 1.8491 - accuracy: 0.4477 - val_loss: 2.2448 - val_accuracy: 0.3634 - 12s/epoch - 6ms/step\n"
          ]
        }
      ],
      "source": [
        "h = model.fit(\n",
        "    x_train, y_train,\n",
        "    validation_data = (x_test, y_test),\n",
        "    epochs=50,verbose=2,\n",
        ")"
      ]
    },
    {
      "cell_type": "code",
      "source": [
        "import matplotlib.pyplot as plt\n",
        "\n",
        "epochs_ran = len(h.history['loss'])\n",
        "\n",
        "plt.plot(range(0,epochs_ran),h.history['val_accuracy'],label='Validation')\n",
        "plt.plot(range(0,epochs_ran),h.history['accuracy'],label='Training')\n",
        "plt.legend()\n",
        "plt.show()"
      ],
      "metadata": {
        "colab": {
          "base_uri": "https://localhost:8080/",
          "height": 430
        },
        "id": "PR97SuyqmKN2",
        "outputId": "708befe8-5240-4df1-de30-28e8ed856e52"
      },
      "execution_count": 45,
      "outputs": [
        {
          "output_type": "display_data",
          "data": {
            "text/plain": [
              "<Figure size 640x480 with 1 Axes>"
            ],
            "image/png": "[encoded data removed]"
          },
          "metadata": {}
        }
      ]
    },
    {
      "cell_type": "markdown",
      "metadata": {
        "id": "l9nOmRnYHp0s"
      },
      "source": [
        "## Task 8: Generate Names!"
      ]
    },
    {
      "cell_type": "code",
      "execution_count": 46,
      "metadata": {
        "id": "9f50aTRcpt24"
      },
      "outputs": [],
      "source": [
        "def generate_names(seed):\n",
        "  for i in range(0,40):\n",
        "    seq=name_to_seq(seed)\n",
        "    padded = tf.keras.preprocessing.sequence.pad_sequences([seq],padding='pre',\n",
        "                                                           maxlen=max_len - 1,\n",
        "                                                           truncating='pre')\n",
        "    pred=model.predict(padded)[0]\n",
        "    pred_char = index_to_char[tf.argmax(pred).numpy()]\n",
        "    seed += pred_char\n",
        "\n",
        "    if pred_char == '\\t':\n",
        "      break\n",
        "  print(seed)"
      ]
    },
    {
      "cell_type": "code",
      "execution_count": 58,
      "metadata": {
        "id": "faQ0FInlpt26",
        "colab": {
          "base_uri": "https://localhost:8080/"
        },
        "outputId": "5ad32e9c-d875-4578-adb5-b6ce13afb472"
      },
      "outputs": [
        {
          "output_type": "stream",
          "name": "stdout",
          "text": [
            "1/1 [==============================] - 0s 39ms/step\n",
            "1/1 [==============================] - 0s 33ms/step\n",
            "1/1 [==============================] - 0s 37ms/step\n",
            "1/1 [==============================] - 0s 40ms/step\n",
            "1/1 [==============================] - 0s 43ms/step\n",
            "1/1 [==============================] - 0s 50ms/step\n",
            "1/1 [==============================] - 0s 54ms/step\n",
            "1/1 [==============================] - 0s 77ms/step\n",
            "1/1 [==============================] - 0s 113ms/step\n",
            "max mantise\t\n"
          ]
        }
      ],
      "source": [
        "generate_names('max')"
      ]
    },
    {
      "cell_type": "code",
      "source": [],
      "metadata": {
        "id": "29olu0pDq7CV"
      },
      "execution_count": null,
      "outputs": []
    }
  ],
  "metadata": {
    "accelerator": "GPU",
    "colab": {
      "provenance": []
    },
    "kernelspec": {
      "display_name": "Python 3",
      "language": "python",
      "name": "python3"
    },
    "language_info": {
      "codemirror_mode": {
        "name": "ipython",
        "version": 3
      },
      "file_extension": ".py",
      "mimetype": "text/x-python",
      "name": "python",
      "nbconvert_exporter": "python",
      "pygments_lexer": "ipython3",
      "version": "3.8.3"
    }
  },
  "nbformat": 4,
  "nbformat_minor": 0
}